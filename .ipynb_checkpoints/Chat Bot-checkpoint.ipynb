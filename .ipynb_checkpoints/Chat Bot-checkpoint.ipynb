{
 "cells": [
  {
   "cell_type": "code",
   "execution_count": 1,
   "id": "005a4a92",
   "metadata": {},
   "outputs": [],
   "source": [
    "import pickle\n",
    "import numpy as np"
   ]
  },
  {
   "cell_type": "code",
   "execution_count": 2,
   "id": "1a2ef6d8",
   "metadata": {},
   "outputs": [],
   "source": [
    "# Imported to avoid matplotlib plotting error\n",
    "import os    \n",
    "os.environ['KMP_DUPLICATE_LIB_OK'] = 'True'"
   ]
  },
  {
   "cell_type": "code",
   "execution_count": 3,
   "id": "225ca60f",
   "metadata": {},
   "outputs": [],
   "source": [
    "with open(\"data/train_qa.txt\", \"rb\") as f:  # Unpickling the train data\n",
    "    train_data =  pickle.load(f)"
   ]
  },
  {
   "cell_type": "code",
   "execution_count": 4,
   "id": "7ef8c4c0",
   "metadata": {},
   "outputs": [],
   "source": [
    "with open(\"data/test_qa.txt\", \"rb\") as f:   # Unpickling the test data\n",
    "    test_data =  pickle.load(f)"
   ]
  },
  {
   "cell_type": "code",
   "execution_count": 5,
   "id": "5f9da201",
   "metadata": {},
   "outputs": [
    {
     "name": "stdout",
     "output_type": "stream",
     "text": [
      "10000 1000\n"
     ]
    }
   ],
   "source": [
    "print(len(train_data), len(test_data))"
   ]
  },
  {
   "cell_type": "code",
   "execution_count": 6,
   "id": "d27ee1ce",
   "metadata": {},
   "outputs": [],
   "source": [
    "all_data = test_data + train_data"
   ]
  },
  {
   "cell_type": "code",
   "execution_count": 7,
   "id": "0d32d014",
   "metadata": {},
   "outputs": [],
   "source": [
    "# Create a set that holds the vocab words\n",
    "vocab = set()"
   ]
  },
  {
   "cell_type": "code",
   "execution_count": 8,
   "id": "9ae0e4e1",
   "metadata": {},
   "outputs": [],
   "source": [
    "for story, question , answer in all_data:\n",
    "    vocab = vocab.union(set(story))\n",
    "    vocab = vocab.union(set(question))"
   ]
  },
  {
   "cell_type": "code",
   "execution_count": 9,
   "id": "f48d45a8",
   "metadata": {},
   "outputs": [],
   "source": [
    "# Adding two possible answers to the vocab\n",
    "vocab.add('no')\n",
    "vocab.add('yes')"
   ]
  },
  {
   "cell_type": "code",
   "execution_count": 10,
   "id": "8988877d",
   "metadata": {},
   "outputs": [],
   "source": [
    "vocab_len = len(vocab) + 1 # Extra space to hold a 0 for Keras's pad_sequences"
   ]
  },
  {
   "cell_type": "code",
   "execution_count": 11,
   "id": "f9de247f",
   "metadata": {},
   "outputs": [
    {
     "name": "stdout",
     "output_type": "stream",
     "text": [
      "6 156\n"
     ]
    }
   ],
   "source": [
    "# Find longest story and longest question\n",
    "max_story_len = max([len(data[0]) for data in all_data])\n",
    "max_question_len = max([len(data[1]) for data in all_data])\n",
    "\n",
    "print(max_question_len, max_story_len)"
   ]
  },
  {
   "cell_type": "code",
   "execution_count": 12,
   "id": "3ebfa1dc",
   "metadata": {},
   "outputs": [],
   "source": [
    "# Vectorizing the data\n",
    "from keras.preprocessing.sequence import pad_sequences\n",
    "from keras.preprocessing.text import Tokenizer"
   ]
  },
  {
   "cell_type": "code",
   "execution_count": 13,
   "id": "51c1c4c9",
   "metadata": {},
   "outputs": [],
   "source": [
    "# Create integer encoding for sequences of words\n",
    "tokenizer = Tokenizer(filters=[])\n",
    "tokenizer.fit_on_texts(vocab)"
   ]
  },
  {
   "cell_type": "code",
   "execution_count": 14,
   "id": "fb988cdb",
   "metadata": {},
   "outputs": [
    {
     "name": "stdout",
     "output_type": "stream",
     "text": [
      "{'john': 1, 'journeyed': 2, 'apple': 3, 'dropped': 4, 'garden': 5, 'back': 6, 'sandra': 7, 'down': 8, 'up': 9, 'bathroom': 10, 'office': 11, 'to': 12, 'moved': 13, 'grabbed': 14, 'discarded': 15, 'is': 16, 'daniel': 17, 'football': 18, 'put': 19, '.': 20, 'travelled': 21, '?': 22, 'took': 23, 'the': 24, 'no': 25, 'got': 26, 'kitchen': 27, 'went': 28, 'hallway': 29, 'bedroom': 30, 'picked': 31, 'left': 32, 'there': 33, 'yes': 34, 'milk': 35, 'mary': 36, 'in': 37}\n"
     ]
    }
   ],
   "source": [
    "print(tokenizer.word_index)"
   ]
  },
  {
   "cell_type": "code",
   "execution_count": 15,
   "id": "91d9bc3f",
   "metadata": {},
   "outputs": [],
   "source": [
    "# Function for vectorizing\n",
    "def vectorize_stories(data, word_index=tokenizer.word_index, max_story_len=max_story_len,max_question_len=max_question_len):\n",
    "     \n",
    "    # X = STORIES\n",
    "    X = []    \n",
    "    # Xq = QUERY or QUESTION\n",
    "    Xq = []    \n",
    "    # Y = CORRECT ANSWER (Yes/No)\n",
    "    Y = []\n",
    "    \n",
    "    for story, query, answer in data:\n",
    "        \n",
    "        # Grab the word index for every word in story\n",
    "        x = [word_index[word.lower()] for word in story]\n",
    "        # Grab the word index for every word in query\n",
    "        xq = [word_index[word.lower()] for word in query]        \n",
    "        # Empty matrix\n",
    "        y = np.zeros(len(word_index) + 1)\n",
    "        \n",
    "        y[word_index[answer]] = 1\n",
    "        \n",
    "        # Append each set of story,query, and answer to their respective holding lists\n",
    "        X.append(x)\n",
    "        Xq.append(xq)\n",
    "        Y.append(y)\n",
    "        \n",
    "    # Return the padded sequences\n",
    "    return (pad_sequences(X, maxlen=max_story_len), pad_sequences(Xq, maxlen=max_question_len), np.array(Y))"
   ]
  },
  {
   "cell_type": "code",
   "execution_count": 16,
   "id": "d995ceb4",
   "metadata": {},
   "outputs": [],
   "source": [
    "inputs_train, queries_train, answers_train = vectorize_stories(train_data)"
   ]
  },
  {
   "cell_type": "code",
   "execution_count": 17,
   "id": "2a289232",
   "metadata": {},
   "outputs": [],
   "source": [
    "inputs_test, queries_test, answers_test = vectorize_stories(test_data)"
   ]
  },
  {
   "cell_type": "code",
   "execution_count": 18,
   "id": "25d05e70",
   "metadata": {},
   "outputs": [],
   "source": [
    "# Creating the model"
   ]
  },
  {
   "cell_type": "code",
   "execution_count": 19,
   "id": "10840962",
   "metadata": {},
   "outputs": [],
   "source": [
    "from keras.models import Sequential, Model\n",
    "from keras.layers.embeddings import Embedding\n",
    "from keras.layers import Input, Activation, Dense, Permute, Dropout\n",
    "from keras.layers import add, dot, concatenate\n",
    "from keras.layers import LSTM"
   ]
  },
  {
   "cell_type": "code",
   "execution_count": 20,
   "id": "5fdf4317",
   "metadata": {},
   "outputs": [],
   "source": [
    "# Placeholders with shape = (max_len, batch_size)\n",
    "input_sequence = Input((max_story_len,))\n",
    "question = Input((max_question_len,))"
   ]
  },
  {
   "cell_type": "code",
   "execution_count": 21,
   "id": "b33603b1",
   "metadata": {},
   "outputs": [],
   "source": [
    "# Re-defining a new variable for vocab_len\n",
    "vocab_size = vocab_len"
   ]
  },
  {
   "cell_type": "code",
   "execution_count": 22,
   "id": "878ceefa",
   "metadata": {},
   "outputs": [],
   "source": [
    "# Input Encoder M\n",
    "input_encoder_m = Sequential()\n",
    "input_encoder_m.add(Embedding(input_dim=vocab_size,\n",
    "                              output_dim=64))\n",
    "input_encoder_m.add(Dropout(0.3))"
   ]
  },
  {
   "cell_type": "code",
   "execution_count": 23,
   "id": "d4ce19c4",
   "metadata": {},
   "outputs": [],
   "source": [
    "# Input Encoder C\n",
    "input_encoder_c = Sequential()\n",
    "input_encoder_c.add(Embedding(input_dim=vocab_size,\n",
    "                              output_dim=max_question_len))\n",
    "input_encoder_c.add(Dropout(0.3))"
   ]
  },
  {
   "cell_type": "code",
   "execution_count": 24,
   "id": "40dcf170",
   "metadata": {},
   "outputs": [],
   "source": [
    "# Question Encoder\n",
    "question_encoder = Sequential()\n",
    "question_encoder.add(Embedding(input_dim=vocab_size,\n",
    "                               output_dim=64,\n",
    "                               input_length=max_question_len))\n",
    "question_encoder.add(Dropout(0.3))"
   ]
  },
  {
   "cell_type": "code",
   "execution_count": 25,
   "id": "97e898e4",
   "metadata": {},
   "outputs": [],
   "source": [
    "# Encode to sequences of dense vectors\n",
    "input_encoded_m = input_encoder_m(input_sequence)\n",
    "input_encoded_c = input_encoder_c(input_sequence)\n",
    "question_encoded = question_encoder(question)"
   ]
  },
  {
   "cell_type": "code",
   "execution_count": 26,
   "id": "4cb412ff",
   "metadata": {},
   "outputs": [],
   "source": [
    "# Use dot product to compute the match between first input vector seq and the query\n",
    "match = dot([input_encoded_m, question_encoded], axes=(2, 2))\n",
    "match = Activation('softmax')(match)"
   ]
  },
  {
   "cell_type": "code",
   "execution_count": 27,
   "id": "f992861a",
   "metadata": {},
   "outputs": [],
   "source": [
    "# Add the match matrix with the second input vector sequence\n",
    "response = add([match, input_encoded_c])\n",
    "response = Permute((2, 1))(response)"
   ]
  },
  {
   "cell_type": "code",
   "execution_count": 28,
   "id": "e043a5d8",
   "metadata": {},
   "outputs": [],
   "source": [
    "# Concatenate the match matrix with the question vector sequence\n",
    "answer = concatenate([response, question_encoded])"
   ]
  },
  {
   "cell_type": "code",
   "execution_count": 29,
   "id": "0da2fe38",
   "metadata": {},
   "outputs": [],
   "source": [
    "# Reduce with RNN (LSTM)\n",
    "answer = LSTM(32)(answer)"
   ]
  },
  {
   "cell_type": "code",
   "execution_count": 30,
   "id": "46b895c6",
   "metadata": {},
   "outputs": [],
   "source": [
    "# Regularization with Dropout\n",
    "answer = Dropout(0.5)(answer)\n",
    "answer = Dense(vocab_size)(answer) "
   ]
  },
  {
   "cell_type": "code",
   "execution_count": 31,
   "id": "3facc767",
   "metadata": {},
   "outputs": [],
   "source": [
    "# Output a probability distribution over the vocabulary\n",
    "answer = Activation('softmax')(answer)"
   ]
  },
  {
   "cell_type": "code",
   "execution_count": 32,
   "id": "64bc400a",
   "metadata": {},
   "outputs": [],
   "source": [
    "# Build the final model\n",
    "model = Model([input_sequence, question], answer)\n",
    "model.compile(optimizer='rmsprop', \n",
    "              loss='categorical_crossentropy',\n",
    "              metrics=['accuracy'])"
   ]
  },
  {
   "cell_type": "code",
   "execution_count": 33,
   "id": "2802d0bf",
   "metadata": {},
   "outputs": [
    {
     "name": "stdout",
     "output_type": "stream",
     "text": [
      "Model: \"model\"\n",
      "__________________________________________________________________________________________________\n",
      " Layer (type)                   Output Shape         Param #     Connected to                     \n",
      "==================================================================================================\n",
      " input_1 (InputLayer)           [(None, 156)]        0           []                               \n",
      "                                                                                                  \n",
      " input_2 (InputLayer)           [(None, 6)]          0           []                               \n",
      "                                                                                                  \n",
      " sequential (Sequential)        (None, None, 64)     2432        ['input_1[0][0]']                \n",
      "                                                                                                  \n",
      " sequential_2 (Sequential)      (None, 6, 64)        2432        ['input_2[0][0]']                \n",
      "                                                                                                  \n",
      " dot (Dot)                      (None, 156, 6)       0           ['sequential[0][0]',             \n",
      "                                                                  'sequential_2[0][0]']           \n",
      "                                                                                                  \n",
      " activation (Activation)        (None, 156, 6)       0           ['dot[0][0]']                    \n",
      "                                                                                                  \n",
      " sequential_1 (Sequential)      (None, None, 6)      228         ['input_1[0][0]']                \n",
      "                                                                                                  \n",
      " add (Add)                      (None, 156, 6)       0           ['activation[0][0]',             \n",
      "                                                                  'sequential_1[0][0]']           \n",
      "                                                                                                  \n",
      " permute (Permute)              (None, 6, 156)       0           ['add[0][0]']                    \n",
      "                                                                                                  \n",
      " concatenate (Concatenate)      (None, 6, 220)       0           ['permute[0][0]',                \n",
      "                                                                  'sequential_2[0][0]']           \n",
      "                                                                                                  \n",
      " lstm (LSTM)                    (None, 32)           32384       ['concatenate[0][0]']            \n",
      "                                                                                                  \n",
      " dropout_3 (Dropout)            (None, 32)           0           ['lstm[0][0]']                   \n",
      "                                                                                                  \n",
      " dense (Dense)                  (None, 38)           1254        ['dropout_3[0][0]']              \n",
      "                                                                                                  \n",
      " activation_1 (Activation)      (None, 38)           0           ['dense[0][0]']                  \n",
      "                                                                                                  \n",
      "==================================================================================================\n",
      "Total params: 38,730\n",
      "Trainable params: 38,730\n",
      "Non-trainable params: 0\n",
      "__________________________________________________________________________________________________\n",
      "None\n"
     ]
    }
   ],
   "source": [
    "print(model.summary())"
   ]
  },
  {
   "cell_type": "code",
   "execution_count": 34,
   "id": "a84f8132",
   "metadata": {},
   "outputs": [
    {
     "name": "stdout",
     "output_type": "stream",
     "text": [
      "Epoch 1/150\n",
      "313/313 [==============================] - 6s 11ms/step - loss: 0.9207 - accuracy: 0.4942 - val_loss: 0.7004 - val_accuracy: 0.4970\n",
      "Epoch 2/150\n",
      "313/313 [==============================] - 3s 9ms/step - loss: 0.7045 - accuracy: 0.5064 - val_loss: 0.6933 - val_accuracy: 0.4970\n",
      "Epoch 3/150\n",
      "313/313 [==============================] - 3s 9ms/step - loss: 0.6961 - accuracy: 0.4990 - val_loss: 0.6968 - val_accuracy: 0.5030\n",
      "Epoch 4/150\n",
      "313/313 [==============================] - 3s 9ms/step - loss: 0.6955 - accuracy: 0.4961 - val_loss: 0.6935 - val_accuracy: 0.4970\n",
      "Epoch 5/150\n",
      "313/313 [==============================] - 3s 9ms/step - loss: 0.6952 - accuracy: 0.4995 - val_loss: 0.6932 - val_accuracy: 0.4970\n",
      "Epoch 6/150\n",
      "313/313 [==============================] - 3s 9ms/step - loss: 0.6943 - accuracy: 0.5046 - val_loss: 0.6936 - val_accuracy: 0.5030\n",
      "Epoch 7/150\n",
      "313/313 [==============================] - 3s 9ms/step - loss: 0.6937 - accuracy: 0.5067 - val_loss: 0.6938 - val_accuracy: 0.4970\n",
      "Epoch 8/150\n",
      "313/313 [==============================] - 3s 9ms/step - loss: 0.6944 - accuracy: 0.5046 - val_loss: 0.6936 - val_accuracy: 0.4780\n",
      "Epoch 9/150\n",
      "313/313 [==============================] - 3s 9ms/step - loss: 0.6941 - accuracy: 0.5068 - val_loss: 0.6944 - val_accuracy: 0.4950\n",
      "Epoch 10/150\n",
      "313/313 [==============================] - 3s 9ms/step - loss: 0.6932 - accuracy: 0.5109 - val_loss: 0.6947 - val_accuracy: 0.5060\n",
      "Epoch 11/150\n",
      "313/313 [==============================] - 3s 9ms/step - loss: 0.6937 - accuracy: 0.5085 - val_loss: 0.6946 - val_accuracy: 0.4850\n",
      "Epoch 12/150\n",
      "313/313 [==============================] - 3s 9ms/step - loss: 0.6919 - accuracy: 0.5151 - val_loss: 0.6935 - val_accuracy: 0.4840\n",
      "Epoch 13/150\n",
      "313/313 [==============================] - 3s 9ms/step - loss: 0.6844 - accuracy: 0.5456 - val_loss: 0.6869 - val_accuracy: 0.5250\n",
      "Epoch 14/150\n",
      "313/313 [==============================] - 3s 9ms/step - loss: 0.6610 - accuracy: 0.5978 - val_loss: 0.6593 - val_accuracy: 0.6070\n",
      "Epoch 15/150\n",
      "313/313 [==============================] - 3s 9ms/step - loss: 0.6417 - accuracy: 0.6295 - val_loss: 0.6515 - val_accuracy: 0.6250\n",
      "Epoch 16/150\n",
      "313/313 [==============================] - 3s 9ms/step - loss: 0.6246 - accuracy: 0.6496 - val_loss: 0.6252 - val_accuracy: 0.6630\n",
      "Epoch 17/150\n",
      "313/313 [==============================] - 3s 9ms/step - loss: 0.5999 - accuracy: 0.6829 - val_loss: 0.5941 - val_accuracy: 0.6810\n",
      "Epoch 18/150\n",
      "313/313 [==============================] - 3s 9ms/step - loss: 0.5725 - accuracy: 0.7037 - val_loss: 0.5535 - val_accuracy: 0.7380\n",
      "Epoch 19/150\n",
      "313/313 [==============================] - 3s 9ms/step - loss: 0.5473 - accuracy: 0.7263 - val_loss: 0.5366 - val_accuracy: 0.7380\n",
      "Epoch 20/150\n",
      "313/313 [==============================] - 3s 9ms/step - loss: 0.5217 - accuracy: 0.7509 - val_loss: 0.4949 - val_accuracy: 0.7570\n",
      "Epoch 21/150\n",
      "313/313 [==============================] - 3s 9ms/step - loss: 0.5093 - accuracy: 0.7552 - val_loss: 0.4867 - val_accuracy: 0.7680\n",
      "Epoch 22/150\n",
      "313/313 [==============================] - 3s 9ms/step - loss: 0.4964 - accuracy: 0.7671 - val_loss: 0.4847 - val_accuracy: 0.7840\n",
      "Epoch 23/150\n",
      "313/313 [==============================] - 3s 9ms/step - loss: 0.4896 - accuracy: 0.7708 - val_loss: 0.4646 - val_accuracy: 0.7860\n",
      "Epoch 24/150\n",
      "313/313 [==============================] - 3s 9ms/step - loss: 0.4825 - accuracy: 0.7726 - val_loss: 0.4557 - val_accuracy: 0.7880\n",
      "Epoch 25/150\n",
      "313/313 [==============================] - 3s 9ms/step - loss: 0.4750 - accuracy: 0.7754 - val_loss: 0.4588 - val_accuracy: 0.7830\n",
      "Epoch 26/150\n",
      "313/313 [==============================] - 3s 9ms/step - loss: 0.4667 - accuracy: 0.7840 - val_loss: 0.4582 - val_accuracy: 0.7940\n",
      "Epoch 27/150\n",
      "313/313 [==============================] - 3s 9ms/step - loss: 0.4620 - accuracy: 0.7860 - val_loss: 0.4557 - val_accuracy: 0.7890\n",
      "Epoch 28/150\n",
      "313/313 [==============================] - 3s 9ms/step - loss: 0.4530 - accuracy: 0.7879 - val_loss: 0.4534 - val_accuracy: 0.7940\n",
      "Epoch 29/150\n",
      "313/313 [==============================] - 3s 9ms/step - loss: 0.4468 - accuracy: 0.7921 - val_loss: 0.4490 - val_accuracy: 0.7860\n",
      "Epoch 30/150\n",
      "313/313 [==============================] - 3s 9ms/step - loss: 0.4451 - accuracy: 0.7944 - val_loss: 0.4488 - val_accuracy: 0.7920\n",
      "Epoch 31/150\n",
      "313/313 [==============================] - 3s 9ms/step - loss: 0.4397 - accuracy: 0.7935 - val_loss: 0.4484 - val_accuracy: 0.7870\n",
      "Epoch 32/150\n",
      "313/313 [==============================] - 3s 9ms/step - loss: 0.4406 - accuracy: 0.8017 - val_loss: 0.4367 - val_accuracy: 0.7930\n",
      "Epoch 33/150\n",
      "313/313 [==============================] - 3s 9ms/step - loss: 0.4314 - accuracy: 0.8034 - val_loss: 0.4339 - val_accuracy: 0.8020\n",
      "Epoch 34/150\n",
      "313/313 [==============================] - 3s 9ms/step - loss: 0.4339 - accuracy: 0.7982 - val_loss: 0.4277 - val_accuracy: 0.7860\n",
      "Epoch 35/150\n",
      "313/313 [==============================] - 3s 9ms/step - loss: 0.4274 - accuracy: 0.8023 - val_loss: 0.4331 - val_accuracy: 0.7880\n",
      "Epoch 36/150\n",
      "313/313 [==============================] - 3s 9ms/step - loss: 0.4227 - accuracy: 0.8074 - val_loss: 0.4317 - val_accuracy: 0.7880\n",
      "Epoch 37/150\n",
      "313/313 [==============================] - 3s 9ms/step - loss: 0.4237 - accuracy: 0.8038 - val_loss: 0.4317 - val_accuracy: 0.7860\n",
      "Epoch 38/150\n",
      "313/313 [==============================] - 3s 9ms/step - loss: 0.4204 - accuracy: 0.8064 - val_loss: 0.4425 - val_accuracy: 0.7950\n",
      "Epoch 39/150\n",
      "313/313 [==============================] - 3s 9ms/step - loss: 0.4151 - accuracy: 0.8106 - val_loss: 0.4429 - val_accuracy: 0.7870\n",
      "Epoch 40/150\n",
      "313/313 [==============================] - 3s 9ms/step - loss: 0.4115 - accuracy: 0.8075 - val_loss: 0.4280 - val_accuracy: 0.8010\n",
      "Epoch 41/150\n",
      "313/313 [==============================] - 3s 9ms/step - loss: 0.4117 - accuracy: 0.8082 - val_loss: 0.4245 - val_accuracy: 0.7930\n",
      "Epoch 42/150\n",
      "313/313 [==============================] - 3s 9ms/step - loss: 0.4084 - accuracy: 0.8120 - val_loss: 0.4351 - val_accuracy: 0.7980\n",
      "Epoch 43/150\n",
      "313/313 [==============================] - 3s 9ms/step - loss: 0.4058 - accuracy: 0.8135 - val_loss: 0.4623 - val_accuracy: 0.7940\n",
      "Epoch 44/150\n",
      "313/313 [==============================] - 3s 9ms/step - loss: 0.4050 - accuracy: 0.8128 - val_loss: 0.4345 - val_accuracy: 0.7960\n",
      "Epoch 45/150\n",
      "313/313 [==============================] - 3s 9ms/step - loss: 0.3981 - accuracy: 0.8172 - val_loss: 0.4335 - val_accuracy: 0.7910\n",
      "Epoch 46/150\n",
      "313/313 [==============================] - 3s 9ms/step - loss: 0.3966 - accuracy: 0.8180 - val_loss: 0.4402 - val_accuracy: 0.7970\n",
      "Epoch 47/150\n",
      "313/313 [==============================] - 3s 9ms/step - loss: 0.3987 - accuracy: 0.8156 - val_loss: 0.4431 - val_accuracy: 0.7910\n",
      "Epoch 48/150\n",
      "313/313 [==============================] - 3s 9ms/step - loss: 0.3997 - accuracy: 0.8165 - val_loss: 0.4386 - val_accuracy: 0.8020\n",
      "Epoch 49/150\n",
      "313/313 [==============================] - 3s 9ms/step - loss: 0.3940 - accuracy: 0.8216 - val_loss: 0.4344 - val_accuracy: 0.7950\n",
      "Epoch 50/150\n",
      "313/313 [==============================] - 3s 9ms/step - loss: 0.3922 - accuracy: 0.8245 - val_loss: 0.4400 - val_accuracy: 0.7970\n",
      "Epoch 51/150\n",
      "313/313 [==============================] - 3s 9ms/step - loss: 0.3969 - accuracy: 0.8176 - val_loss: 0.4347 - val_accuracy: 0.7890\n",
      "Epoch 52/150\n",
      "313/313 [==============================] - 3s 9ms/step - loss: 0.3876 - accuracy: 0.8231 - val_loss: 0.4382 - val_accuracy: 0.7960\n",
      "Epoch 53/150\n",
      "313/313 [==============================] - 3s 9ms/step - loss: 0.3899 - accuracy: 0.8218 - val_loss: 0.4401 - val_accuracy: 0.8070\n",
      "Epoch 54/150\n",
      "313/313 [==============================] - 3s 9ms/step - loss: 0.3870 - accuracy: 0.8222 - val_loss: 0.4484 - val_accuracy: 0.8020\n",
      "Epoch 55/150\n",
      "313/313 [==============================] - 3s 9ms/step - loss: 0.3834 - accuracy: 0.8238 - val_loss: 0.4385 - val_accuracy: 0.7960\n",
      "Epoch 56/150\n",
      "313/313 [==============================] - 3s 10ms/step - loss: 0.3852 - accuracy: 0.8204 - val_loss: 0.4672 - val_accuracy: 0.7880\n",
      "Epoch 57/150\n",
      "313/313 [==============================] - 3s 9ms/step - loss: 0.3774 - accuracy: 0.8269 - val_loss: 0.4348 - val_accuracy: 0.8030\n"
     ]
    },
    {
     "name": "stdout",
     "output_type": "stream",
     "text": [
      "Epoch 58/150\n",
      "313/313 [==============================] - 3s 9ms/step - loss: 0.3769 - accuracy: 0.8259 - val_loss: 0.4372 - val_accuracy: 0.8000\n",
      "Epoch 59/150\n",
      "313/313 [==============================] - 3s 9ms/step - loss: 0.3713 - accuracy: 0.8323 - val_loss: 0.4360 - val_accuracy: 0.7900\n",
      "Epoch 60/150\n",
      "313/313 [==============================] - 3s 9ms/step - loss: 0.3769 - accuracy: 0.8278 - val_loss: 0.4452 - val_accuracy: 0.7960\n",
      "Epoch 61/150\n",
      "313/313 [==============================] - 3s 9ms/step - loss: 0.3733 - accuracy: 0.8272 - val_loss: 0.4333 - val_accuracy: 0.7980\n",
      "Epoch 62/150\n",
      "313/313 [==============================] - 3s 9ms/step - loss: 0.3686 - accuracy: 0.8315 - val_loss: 0.4663 - val_accuracy: 0.7890\n",
      "Epoch 63/150\n",
      "313/313 [==============================] - 3s 9ms/step - loss: 0.3719 - accuracy: 0.8283 - val_loss: 0.4648 - val_accuracy: 0.7960\n",
      "Epoch 64/150\n",
      "313/313 [==============================] - 3s 9ms/step - loss: 0.3663 - accuracy: 0.8338 - val_loss: 0.4416 - val_accuracy: 0.8010\n",
      "Epoch 65/150\n",
      "313/313 [==============================] - 3s 9ms/step - loss: 0.3694 - accuracy: 0.8306 - val_loss: 0.4416 - val_accuracy: 0.7920\n",
      "Epoch 66/150\n",
      "313/313 [==============================] - 3s 9ms/step - loss: 0.3682 - accuracy: 0.8316 - val_loss: 0.4426 - val_accuracy: 0.7960\n",
      "Epoch 67/150\n",
      "313/313 [==============================] - 3s 9ms/step - loss: 0.3652 - accuracy: 0.8343 - val_loss: 0.4501 - val_accuracy: 0.7940\n",
      "Epoch 68/150\n",
      "313/313 [==============================] - 3s 9ms/step - loss: 0.3651 - accuracy: 0.8304 - val_loss: 0.4496 - val_accuracy: 0.8040\n",
      "Epoch 69/150\n",
      "313/313 [==============================] - 3s 9ms/step - loss: 0.3620 - accuracy: 0.8330 - val_loss: 0.4404 - val_accuracy: 0.7890\n",
      "Epoch 70/150\n",
      "313/313 [==============================] - 3s 9ms/step - loss: 0.3635 - accuracy: 0.8343 - val_loss: 0.4617 - val_accuracy: 0.7950\n",
      "Epoch 71/150\n",
      "313/313 [==============================] - 3s 9ms/step - loss: 0.3564 - accuracy: 0.8380 - val_loss: 0.4373 - val_accuracy: 0.8000\n",
      "Epoch 72/150\n",
      "313/313 [==============================] - 3s 9ms/step - loss: 0.3564 - accuracy: 0.8392 - val_loss: 0.4505 - val_accuracy: 0.7890\n",
      "Epoch 73/150\n",
      "313/313 [==============================] - 3s 10ms/step - loss: 0.3537 - accuracy: 0.8421 - val_loss: 0.4585 - val_accuracy: 0.7940\n",
      "Epoch 74/150\n",
      "313/313 [==============================] - 3s 9ms/step - loss: 0.3587 - accuracy: 0.8348 - val_loss: 0.4426 - val_accuracy: 0.7940\n",
      "Epoch 75/150\n",
      "313/313 [==============================] - 3s 10ms/step - loss: 0.3490 - accuracy: 0.8408 - val_loss: 0.4520 - val_accuracy: 0.7950\n",
      "Epoch 76/150\n",
      "313/313 [==============================] - 3s 10ms/step - loss: 0.3443 - accuracy: 0.8471 - val_loss: 0.4543 - val_accuracy: 0.7990\n",
      "Epoch 77/150\n",
      "313/313 [==============================] - 3s 10ms/step - loss: 0.3421 - accuracy: 0.8486 - val_loss: 0.4326 - val_accuracy: 0.8060\n",
      "Epoch 78/150\n",
      "313/313 [==============================] - 3s 10ms/step - loss: 0.3434 - accuracy: 0.8461 - val_loss: 0.4688 - val_accuracy: 0.7920\n",
      "Epoch 79/150\n",
      "313/313 [==============================] - 3s 10ms/step - loss: 0.3332 - accuracy: 0.8501 - val_loss: 0.4497 - val_accuracy: 0.8020\n",
      "Epoch 80/150\n",
      "313/313 [==============================] - 3s 10ms/step - loss: 0.3318 - accuracy: 0.8508 - val_loss: 0.4536 - val_accuracy: 0.8040\n",
      "Epoch 81/150\n",
      "313/313 [==============================] - 3s 10ms/step - loss: 0.3337 - accuracy: 0.8506 - val_loss: 0.4404 - val_accuracy: 0.8070\n",
      "Epoch 82/150\n",
      "313/313 [==============================] - 3s 10ms/step - loss: 0.3266 - accuracy: 0.8600 - val_loss: 0.4378 - val_accuracy: 0.8060\n",
      "Epoch 83/150\n",
      "313/313 [==============================] - 3s 10ms/step - loss: 0.3252 - accuracy: 0.8573 - val_loss: 0.4276 - val_accuracy: 0.8080\n",
      "Epoch 84/150\n",
      "313/313 [==============================] - 3s 10ms/step - loss: 0.3166 - accuracy: 0.8596 - val_loss: 0.4718 - val_accuracy: 0.8090\n",
      "Epoch 85/150\n",
      "313/313 [==============================] - 3s 9ms/step - loss: 0.3201 - accuracy: 0.8563 - val_loss: 0.4629 - val_accuracy: 0.7910\n",
      "Epoch 86/150\n",
      "313/313 [==============================] - 3s 9ms/step - loss: 0.3127 - accuracy: 0.8635 - val_loss: 0.4686 - val_accuracy: 0.7970\n",
      "Epoch 87/150\n",
      "313/313 [==============================] - 3s 9ms/step - loss: 0.3121 - accuracy: 0.8621 - val_loss: 0.4403 - val_accuracy: 0.7970\n",
      "Epoch 88/150\n",
      "313/313 [==============================] - 3s 10ms/step - loss: 0.3036 - accuracy: 0.8677 - val_loss: 0.4447 - val_accuracy: 0.8030\n",
      "Epoch 89/150\n",
      "313/313 [==============================] - 3s 10ms/step - loss: 0.3086 - accuracy: 0.8639 - val_loss: 0.4376 - val_accuracy: 0.7970\n",
      "Epoch 90/150\n",
      "313/313 [==============================] - 3s 10ms/step - loss: 0.3118 - accuracy: 0.8622 - val_loss: 0.4518 - val_accuracy: 0.8070\n",
      "Epoch 91/150\n",
      "313/313 [==============================] - 3s 10ms/step - loss: 0.3083 - accuracy: 0.8668 - val_loss: 0.4603 - val_accuracy: 0.8030\n",
      "Epoch 92/150\n",
      "313/313 [==============================] - 3s 10ms/step - loss: 0.3045 - accuracy: 0.8670 - val_loss: 0.4345 - val_accuracy: 0.8070\n",
      "Epoch 93/150\n",
      "313/313 [==============================] - 3s 10ms/step - loss: 0.3045 - accuracy: 0.8694 - val_loss: 0.4255 - val_accuracy: 0.8110\n",
      "Epoch 94/150\n",
      "313/313 [==============================] - 3s 10ms/step - loss: 0.2980 - accuracy: 0.8707 - val_loss: 0.4493 - val_accuracy: 0.8040\n",
      "Epoch 95/150\n",
      "313/313 [==============================] - 3s 10ms/step - loss: 0.2907 - accuracy: 0.8764 - val_loss: 0.4498 - val_accuracy: 0.8010\n",
      "Epoch 96/150\n",
      "313/313 [==============================] - 3s 10ms/step - loss: 0.2939 - accuracy: 0.8773 - val_loss: 0.4302 - val_accuracy: 0.8000\n",
      "Epoch 97/150\n",
      "313/313 [==============================] - 3s 10ms/step - loss: 0.2853 - accuracy: 0.8777 - val_loss: 0.4412 - val_accuracy: 0.8060\n",
      "Epoch 98/150\n",
      "313/313 [==============================] - 3s 10ms/step - loss: 0.2914 - accuracy: 0.8769 - val_loss: 0.4286 - val_accuracy: 0.8170\n",
      "Epoch 99/150\n",
      "313/313 [==============================] - 3s 10ms/step - loss: 0.2840 - accuracy: 0.8771 - val_loss: 0.4389 - val_accuracy: 0.8110\n",
      "Epoch 100/150\n",
      "313/313 [==============================] - 3s 10ms/step - loss: 0.2834 - accuracy: 0.8828 - val_loss: 0.4254 - val_accuracy: 0.8070\n",
      "Epoch 101/150\n",
      "313/313 [==============================] - 3s 10ms/step - loss: 0.2771 - accuracy: 0.8846 - val_loss: 0.4871 - val_accuracy: 0.8050\n",
      "Epoch 102/150\n",
      "313/313 [==============================] - 3s 10ms/step - loss: 0.2786 - accuracy: 0.8850 - val_loss: 0.4380 - val_accuracy: 0.8130\n",
      "Epoch 103/150\n",
      "313/313 [==============================] - 3s 10ms/step - loss: 0.2796 - accuracy: 0.8836 - val_loss: 0.5110 - val_accuracy: 0.7920\n",
      "Epoch 104/150\n",
      "313/313 [==============================] - 3s 10ms/step - loss: 0.2768 - accuracy: 0.8844 - val_loss: 0.4460 - val_accuracy: 0.8080\n",
      "Epoch 105/150\n",
      "313/313 [==============================] - 3s 10ms/step - loss: 0.2762 - accuracy: 0.8833 - val_loss: 0.4792 - val_accuracy: 0.8090\n",
      "Epoch 106/150\n",
      "313/313 [==============================] - 3s 10ms/step - loss: 0.2726 - accuracy: 0.8819 - val_loss: 0.4559 - val_accuracy: 0.8160\n",
      "Epoch 107/150\n",
      "313/313 [==============================] - 3s 10ms/step - loss: 0.2763 - accuracy: 0.8864 - val_loss: 0.4660 - val_accuracy: 0.8140\n",
      "Epoch 108/150\n",
      "313/313 [==============================] - 3s 10ms/step - loss: 0.2692 - accuracy: 0.8864 - val_loss: 0.4567 - val_accuracy: 0.8110\n",
      "Epoch 109/150\n",
      "313/313 [==============================] - 3s 10ms/step - loss: 0.2706 - accuracy: 0.8847 - val_loss: 0.4497 - val_accuracy: 0.8200\n",
      "Epoch 110/150\n",
      "313/313 [==============================] - 3s 10ms/step - loss: 0.2673 - accuracy: 0.8834 - val_loss: 0.4608 - val_accuracy: 0.8160\n",
      "Epoch 111/150\n",
      "313/313 [==============================] - 3s 10ms/step - loss: 0.2668 - accuracy: 0.8846 - val_loss: 0.4544 - val_accuracy: 0.8150\n",
      "Epoch 112/150\n",
      "313/313 [==============================] - 3s 10ms/step - loss: 0.2609 - accuracy: 0.8944 - val_loss: 0.4736 - val_accuracy: 0.8130\n",
      "Epoch 113/150\n",
      "313/313 [==============================] - 3s 10ms/step - loss: 0.2652 - accuracy: 0.8910 - val_loss: 0.4522 - val_accuracy: 0.8070\n",
      "Epoch 114/150\n"
     ]
    },
    {
     "name": "stdout",
     "output_type": "stream",
     "text": [
      "313/313 [==============================] - 3s 9ms/step - loss: 0.2655 - accuracy: 0.8896 - val_loss: 0.4699 - val_accuracy: 0.8140\n",
      "Epoch 115/150\n",
      "313/313 [==============================] - 3s 9ms/step - loss: 0.2531 - accuracy: 0.8940 - val_loss: 0.4843 - val_accuracy: 0.8100\n",
      "Epoch 116/150\n",
      "313/313 [==============================] - 3s 9ms/step - loss: 0.2627 - accuracy: 0.8925 - val_loss: 0.4644 - val_accuracy: 0.8120\n",
      "Epoch 117/150\n",
      "313/313 [==============================] - 3s 9ms/step - loss: 0.2574 - accuracy: 0.8916 - val_loss: 0.4734 - val_accuracy: 0.8190\n",
      "Epoch 118/150\n",
      "313/313 [==============================] - 3s 9ms/step - loss: 0.2545 - accuracy: 0.8923 - val_loss: 0.4580 - val_accuracy: 0.8200\n",
      "Epoch 119/150\n",
      "313/313 [==============================] - 3s 9ms/step - loss: 0.2520 - accuracy: 0.8921 - val_loss: 0.4764 - val_accuracy: 0.8130\n",
      "Epoch 120/150\n",
      "313/313 [==============================] - 3s 9ms/step - loss: 0.2551 - accuracy: 0.8921 - val_loss: 0.4940 - val_accuracy: 0.8140\n",
      "Epoch 121/150\n",
      "313/313 [==============================] - 3s 9ms/step - loss: 0.2599 - accuracy: 0.8910 - val_loss: 0.4689 - val_accuracy: 0.8180\n",
      "Epoch 122/150\n",
      "313/313 [==============================] - 3s 9ms/step - loss: 0.2566 - accuracy: 0.8946 - val_loss: 0.4988 - val_accuracy: 0.8100\n",
      "Epoch 123/150\n",
      "313/313 [==============================] - 3s 9ms/step - loss: 0.2498 - accuracy: 0.8965 - val_loss: 0.4467 - val_accuracy: 0.8200\n",
      "Epoch 124/150\n",
      "313/313 [==============================] - 3s 9ms/step - loss: 0.2485 - accuracy: 0.8974 - val_loss: 0.4788 - val_accuracy: 0.8090\n",
      "Epoch 125/150\n",
      "313/313 [==============================] - 3s 10ms/step - loss: 0.2520 - accuracy: 0.8957 - val_loss: 0.4949 - val_accuracy: 0.8040\n",
      "Epoch 126/150\n",
      "313/313 [==============================] - 3s 10ms/step - loss: 0.2380 - accuracy: 0.9009 - val_loss: 0.5330 - val_accuracy: 0.8090\n",
      "Epoch 127/150\n",
      "313/313 [==============================] - 3s 10ms/step - loss: 0.2487 - accuracy: 0.8993 - val_loss: 0.4844 - val_accuracy: 0.8190\n",
      "Epoch 128/150\n",
      "313/313 [==============================] - 3s 10ms/step - loss: 0.2453 - accuracy: 0.8961 - val_loss: 0.4737 - val_accuracy: 0.8130\n",
      "Epoch 129/150\n",
      "313/313 [==============================] - 3s 10ms/step - loss: 0.2388 - accuracy: 0.8981 - val_loss: 0.4769 - val_accuracy: 0.8080\n",
      "Epoch 130/150\n",
      "313/313 [==============================] - 3s 10ms/step - loss: 0.2477 - accuracy: 0.8995 - val_loss: 0.4893 - val_accuracy: 0.8080\n",
      "Epoch 131/150\n",
      "313/313 [==============================] - 3s 10ms/step - loss: 0.2464 - accuracy: 0.8998 - val_loss: 0.4857 - val_accuracy: 0.8100\n",
      "Epoch 132/150\n",
      "313/313 [==============================] - 3s 10ms/step - loss: 0.2409 - accuracy: 0.9019 - val_loss: 0.5107 - val_accuracy: 0.8080\n",
      "Epoch 133/150\n",
      "313/313 [==============================] - 3s 10ms/step - loss: 0.2392 - accuracy: 0.9036 - val_loss: 0.5360 - val_accuracy: 0.8100\n",
      "Epoch 134/150\n",
      "313/313 [==============================] - 3s 10ms/step - loss: 0.2381 - accuracy: 0.9037 - val_loss: 0.4846 - val_accuracy: 0.8100\n",
      "Epoch 135/150\n",
      "313/313 [==============================] - 3s 10ms/step - loss: 0.2317 - accuracy: 0.9081 - val_loss: 0.5130 - val_accuracy: 0.8050\n",
      "Epoch 136/150\n",
      "313/313 [==============================] - 3s 10ms/step - loss: 0.2425 - accuracy: 0.8979 - val_loss: 0.5126 - val_accuracy: 0.8140\n",
      "Epoch 137/150\n",
      "313/313 [==============================] - 3s 10ms/step - loss: 0.2373 - accuracy: 0.9025 - val_loss: 0.4849 - val_accuracy: 0.8130\n",
      "Epoch 138/150\n",
      "313/313 [==============================] - 3s 10ms/step - loss: 0.2326 - accuracy: 0.9053 - val_loss: 0.5405 - val_accuracy: 0.8130\n",
      "Epoch 139/150\n",
      "313/313 [==============================] - 3s 10ms/step - loss: 0.2361 - accuracy: 0.9070 - val_loss: 0.4883 - val_accuracy: 0.8120\n",
      "Epoch 140/150\n",
      "313/313 [==============================] - 3s 10ms/step - loss: 0.2378 - accuracy: 0.9012 - val_loss: 0.5213 - val_accuracy: 0.8070\n",
      "Epoch 141/150\n",
      "313/313 [==============================] - 3s 10ms/step - loss: 0.2277 - accuracy: 0.9068 - val_loss: 0.5056 - val_accuracy: 0.8100\n",
      "Epoch 142/150\n",
      "313/313 [==============================] - 3s 10ms/step - loss: 0.2344 - accuracy: 0.9007 - val_loss: 0.4923 - val_accuracy: 0.8130\n",
      "Epoch 143/150\n",
      "313/313 [==============================] - 3s 10ms/step - loss: 0.2228 - accuracy: 0.9081 - val_loss: 0.5222 - val_accuracy: 0.8140\n",
      "Epoch 144/150\n",
      "313/313 [==============================] - 3s 10ms/step - loss: 0.2306 - accuracy: 0.9074 - val_loss: 0.5408 - val_accuracy: 0.8100\n",
      "Epoch 145/150\n",
      "313/313 [==============================] - 3s 9ms/step - loss: 0.2336 - accuracy: 0.9042 - val_loss: 0.5163 - val_accuracy: 0.8150\n",
      "Epoch 146/150\n",
      "313/313 [==============================] - 3s 10ms/step - loss: 0.2302 - accuracy: 0.9042 - val_loss: 0.5114 - val_accuracy: 0.8010\n",
      "Epoch 147/150\n",
      "313/313 [==============================] - 3s 10ms/step - loss: 0.2238 - accuracy: 0.9030 - val_loss: 0.5275 - val_accuracy: 0.8060\n",
      "Epoch 148/150\n",
      "313/313 [==============================] - 3s 10ms/step - loss: 0.2224 - accuracy: 0.9069 - val_loss: 0.5460 - val_accuracy: 0.8060\n",
      "Epoch 149/150\n",
      "313/313 [==============================] - 3s 10ms/step - loss: 0.2253 - accuracy: 0.9076 - val_loss: 0.5325 - val_accuracy: 0.8090\n",
      "Epoch 150/150\n",
      "313/313 [==============================] - 3s 10ms/step - loss: 0.2261 - accuracy: 0.9115 - val_loss: 0.5256 - val_accuracy: 0.8140\n"
     ]
    }
   ],
   "source": [
    "# Training the model\n",
    "history = model.fit([inputs_train, queries_train], answers_train,batch_size=32,epochs=150,validation_data=([inputs_test, queries_test], answers_test))"
   ]
  },
  {
   "cell_type": "code",
   "execution_count": 35,
   "id": "fc5a61e2",
   "metadata": {},
   "outputs": [],
   "source": [
    "# # Saving the model\n",
    "filename = 'model/chatbot.h5'\n",
    "model.save(filename)"
   ]
  },
  {
   "cell_type": "code",
   "execution_count": 36,
   "id": "fa9762d1",
   "metadata": {},
   "outputs": [
    {
     "name": "stdout",
     "output_type": "stream",
     "text": [
      "dict_keys(['loss', 'accuracy', 'val_loss', 'val_accuracy'])\n"
     ]
    },
    {
     "data": {
      "image/png": "[encoded data removed]",
      "text/plain": [
       "<Figure size 640x480 with 1 Axes>"
      ]
     },
     "metadata": {},
     "output_type": "display_data"
    }
   ],
   "source": [
    "# # Plotting the training history\n",
    "import matplotlib.pyplot as plt\n",
    "%matplotlib inline\n",
    "print(history.history.keys())\n",
    "\n",
    "# summarize history for accuracy\n",
    "plt.plot(history.history['accuracy'])\n",
    "plt.plot(history.history['val_accuracy'])\n",
    "\n",
    "plt.title('model accuracy')\n",
    "plt.ylabel('accuracy')\n",
    "plt.xlabel('epoch')\n",
    "plt.legend(['train', 'test'], loc='upper left')\n",
    "\n",
    "plt.show()"
   ]
  },
  {
   "cell_type": "code",
   "execution_count": 37,
   "id": "03b68f2a",
   "metadata": {},
   "outputs": [],
   "source": [
    "# Loading the trained model\n",
    "model.load_weights(filename)\n",
    "pred_results = model.predict(([inputs_test, queries_test]))"
   ]
  },
  {
   "cell_type": "code",
   "execution_count": 38,
   "id": "4ca6d3f8",
   "metadata": {},
   "outputs": [
    {
     "data": {
      "text/plain": [
       "(['Mary',\n",
       "  'got',\n",
       "  'the',\n",
       "  'milk',\n",
       "  'there',\n",
       "  '.',\n",
       "  'John',\n",
       "  'moved',\n",
       "  'to',\n",
       "  'the',\n",
       "  'bedroom',\n",
       "  '.'],\n",
       " ['Is', 'John', 'in', 'the', 'kitchen', '?'],\n",
       " 'no')"
      ]
     },
     "execution_count": 38,
     "metadata": {},
     "output_type": "execute_result"
    }
   ],
   "source": [
    "# First test data\n",
    "test_data[0]"
   ]
  },
  {
   "cell_type": "code",
   "execution_count": 39,
   "id": "4acd0de2",
   "metadata": {},
   "outputs": [
    {
     "name": "stdout",
     "output_type": "stream",
     "text": [
      "Mary got the milk there . John moved to the bedroom .\n"
     ]
    }
   ],
   "source": [
    "story =' '.join(word for word in test_data[0][0])\n",
    "print(story)"
   ]
  },
  {
   "cell_type": "code",
   "execution_count": 40,
   "id": "391fbc1d",
   "metadata": {},
   "outputs": [
    {
     "name": "stdout",
     "output_type": "stream",
     "text": [
      "Is John in the kitchen ?\n"
     ]
    }
   ],
   "source": [
    "query = ' '.join(word for word in test_data[0][1])\n",
    "print(query)"
   ]
  },
  {
   "cell_type": "code",
   "execution_count": 41,
   "id": "b01f862a",
   "metadata": {},
   "outputs": [
    {
     "name": "stdout",
     "output_type": "stream",
     "text": [
      "True Test Answer from Data is: no\n"
     ]
    }
   ],
   "source": [
    "print(\"True Test Answer from Data is:\",test_data[0][2])"
   ]
  },
  {
   "cell_type": "code",
   "execution_count": 42,
   "id": "05ba41d0",
   "metadata": {},
   "outputs": [
    {
     "name": "stdout",
     "output_type": "stream",
     "text": [
      "Predicted answer is:  no\n",
      "Probability of certainty was:  0.9999888\n"
     ]
    }
   ],
   "source": [
    "# Testing for first test data\n",
    "val_max = np.argmax(pred_results[0])\n",
    "\n",
    "for key, val in tokenizer.word_index.items():\n",
    "    if val == val_max:\n",
    "        k = key\n",
    "\n",
    "# Generated prediction by model\n",
    "print(\"Predicted answer is: \", k)\n",
    "print(\"Probability of certainty was: \", pred_results[0][val_max])"
   ]
  },
  {
   "cell_type": "code",
   "execution_count": 43,
   "id": "20428647",
   "metadata": {},
   "outputs": [],
   "source": [
    "def predict_ans(my_story, my_question, my_ans):\n",
    "    my_story.split()\n",
    "    my_question.split()\n",
    "    \n",
    "    mydata = [(my_story.split(), my_question.split(), my_ans)]\n",
    "    \n",
    "    my_story, my_ques, my_ans = vectorize_stories(mydata)\n",
    "    \n",
    "    pred_results = model.predict(([my_story, my_ques]))\n",
    "    val_max = np.argmax(pred_results[0])\n",
    "\n",
    "    for key, val in tokenizer.word_index.items():\n",
    "        if val == val_max:\n",
    "            k = key\n",
    "\n",
    "    print(\"Predicted answer is: \", k)\n",
    "    print(\"Probability of certainty was: \", pred_results[0][val_max])"
   ]
  },
  {
   "cell_type": "code",
   "execution_count": 44,
   "id": "79955c4c",
   "metadata": {},
   "outputs": [
    {
     "name": "stdout",
     "output_type": "stream",
     "text": [
      "{'John', 'journeyed', 'apple', 'dropped', 'garden', 'back', 'Sandra', 'down', 'up', 'bathroom', 'office', 'to', 'moved', 'grabbed', 'discarded', 'Is', 'Daniel', 'football', 'put', '.', 'travelled', '?', 'took', 'the', 'no', 'got', 'kitchen', 'went', 'hallway', 'bedroom', 'picked', 'left', 'there', 'yes', 'milk', 'Mary', 'in'}\n"
     ]
    }
   ],
   "source": [
    "# Writing own story, query and answer\n",
    "\n",
    "# Use words only from the vocab\n",
    "print(vocab)"
   ]
  },
  {
   "cell_type": "code",
   "execution_count": 45,
   "id": "505972f0",
   "metadata": {},
   "outputs": [
    {
     "name": "stdout",
     "output_type": "stream",
     "text": [
      "Predicted answer is:  yes\n",
      "Probability of certainty was:  0.94849217\n"
     ]
    }
   ],
   "source": [
    "# In original data there are whitespaces in periods\n",
    "my_story = \"John left the kitchen . Sandra dropped the football in the garden .\"\n",
    "my_question = \"Is the football in the garden ?\"\n",
    "my_ans = 'yes'\n",
    "\n",
    "predict_ans(my_story, my_question, my_ans)"
   ]
  },
  {
   "cell_type": "code",
   "execution_count": null,
   "id": "641e0132",
   "metadata": {},
   "outputs": [],
   "source": []
  }
 ],
 "metadata": {
  "kernelspec": {
   "display_name": "Python 3 (ipykernel)",
   "language": "python",
   "name": "python3"
  },
  "language_info": {
   "codemirror_mode": {
    "name": "ipython",
    "version": 3
   },
   "file_extension": ".py",
   "mimetype": "text/x-python",
   "name": "python",
   "nbconvert_exporter": "python",
   "pygments_lexer": "ipython3",
   "version": "3.8.8"
  }
 },
 "nbformat": 4,
 "nbformat_minor": 5
}
